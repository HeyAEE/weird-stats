{
 "cells": [
  {
   "cell_type": "code",
   "execution_count": 1,
   "id": "4b8f1e3d-b6ff-476f-b0eb-be872ccdfeb2",
   "metadata": {},
   "outputs": [
    {
     "data": {
      "application/vnd.jupyter.widget-view+json": {
       "model_id": "ea361d136dbe48c4abb8fc23fc673323",
       "version_major": 2,
       "version_minor": 0
      },
      "text/plain": [
       "FloatProgress(value=0.0, layout=Layout(width='auto'), style=ProgressStyle(bar_color='black'))"
      ]
     },
     "metadata": {},
     "output_type": "display_data"
    }
   ],
   "source": [
    "# Setup from initial notebook setup. Run once!\n",
    "\n",
    "# Duckdb is a SQL engine that allows us to execute powerful, analytics-friendly\n",
    "# queries against local or remote databases and flat files.\n",
    "import duckdb\n",
    "import pandas as pd\n",
    "\n",
    "# Create a database file on disk\n",
    "conn = duckdb.connect('example.db')\n",
    "# Enable remote access\n",
    "conn.sql(\"INSTALL httpfs\")\n",
    "conn.sql(\"LOAD httpfs\")\n",
    "# This database file points to files totaling multiple GBs,\n",
    "# but it's only about 300KB itself. The `ATTACH` command\n",
    "# gives us access to views that sit on top of remote Parquet files.\n",
    "try:\n",
    "  conn.sql(\"ATTACH 'https://data.baseball.computer/dbt/bc_remote.db' (READ_ONLY)\")\n",
    "except duckdb.BinderException:\n",
    "  # This command will fail if you run it more than once because it already exists,\n",
    "  # in which case we don't need to do anything\n",
    "  pass\n",
    "\n",
    "conn.sql(\"USE bc_remote\")\n",
    "conn.sql(\"USE main_models\")"
   ]
  },
  {
   "cell_type": "code",
   "execution_count": 2,
   "id": "fa3ca485-d748-410f-957c-cf4d697b1c3e",
   "metadata": {},
   "outputs": [],
   "source": [
    "# Matplotlib import for graphical analysis\n",
    "\n",
    "import matplotlib.pyplot as plt\n",
    "plt.close(\"all\")"
   ]
  },
  {
   "cell_type": "code",
   "execution_count": 3,
   "id": "e23cfac4-1a9b-4436-966d-65d488189962",
   "metadata": {},
   "outputs": [
    {
     "data": {
      "application/vnd.jupyter.widget-view+json": {
       "model_id": "c1e2d80c53ef447e847e9c00435392bd",
       "version_major": 2,
       "version_minor": 0
      },
      "text/plain": [
       "FloatProgress(value=0.0, layout=Layout(width='auto'), style=ProgressStyle(bar_color='black'))"
      ]
     },
     "metadata": {},
     "output_type": "display_data"
    },
    {
     "data": {
      "text/html": [
       "<div>\n",
       "<style scoped>\n",
       "    .dataframe tbody tr th:only-of-type {\n",
       "        vertical-align: middle;\n",
       "    }\n",
       "\n",
       "    .dataframe tbody tr th {\n",
       "        vertical-align: top;\n",
       "    }\n",
       "\n",
       "    .dataframe thead th {\n",
       "        text-align: right;\n",
       "    }\n",
       "</style>\n",
       "<table border=\"1\" class=\"dataframe\">\n",
       "  <thead>\n",
       "    <tr style=\"text-align: right;\">\n",
       "      <th></th>\n",
       "      <th>yr</th>\n",
       "      <th>pitchesperab</th>\n",
       "    </tr>\n",
       "  </thead>\n",
       "  <tbody>\n",
       "    <tr>\n",
       "      <th>0</th>\n",
       "      <td>2023</td>\n",
       "      <td>3.391737</td>\n",
       "    </tr>\n",
       "    <tr>\n",
       "      <th>1</th>\n",
       "      <td>2022</td>\n",
       "      <td>3.787408</td>\n",
       "    </tr>\n",
       "    <tr>\n",
       "      <th>2</th>\n",
       "      <td>2021</td>\n",
       "      <td>3.804159</td>\n",
       "    </tr>\n",
       "    <tr>\n",
       "      <th>3</th>\n",
       "      <td>2020</td>\n",
       "      <td>3.840095</td>\n",
       "    </tr>\n",
       "    <tr>\n",
       "      <th>4</th>\n",
       "      <td>2019</td>\n",
       "      <td>3.831980</td>\n",
       "    </tr>\n",
       "    <tr>\n",
       "      <th>...</th>\n",
       "      <td>...</td>\n",
       "      <td>...</td>\n",
       "    </tr>\n",
       "    <tr>\n",
       "      <th>110</th>\n",
       "      <td>1913</td>\n",
       "      <td>2.964029</td>\n",
       "    </tr>\n",
       "    <tr>\n",
       "      <th>111</th>\n",
       "      <td>1912</td>\n",
       "      <td>2.965605</td>\n",
       "    </tr>\n",
       "    <tr>\n",
       "      <th>112</th>\n",
       "      <td>1911</td>\n",
       "      <td>3.019608</td>\n",
       "    </tr>\n",
       "    <tr>\n",
       "      <th>113</th>\n",
       "      <td>1910</td>\n",
       "      <td>2.997573</td>\n",
       "    </tr>\n",
       "    <tr>\n",
       "      <th>114</th>\n",
       "      <td>1908</td>\n",
       "      <td>2.885522</td>\n",
       "    </tr>\n",
       "  </tbody>\n",
       "</table>\n",
       "<p>115 rows × 2 columns</p>\n",
       "</div>"
      ],
      "text/plain": [
       "       yr  pitchesperab\n",
       "0    2023      3.391737\n",
       "1    2022      3.787408\n",
       "2    2021      3.804159\n",
       "3    2020      3.840095\n",
       "4    2019      3.831980\n",
       "..    ...           ...\n",
       "110  1913      2.964029\n",
       "111  1912      2.965605\n",
       "112  1911      3.019608\n",
       "113  1910      2.997573\n",
       "114  1908      2.885522\n",
       "\n",
       "[115 rows x 2 columns]"
      ]
     },
     "execution_count": 3,
     "metadata": {},
     "output_type": "execute_result"
    }
   ],
   "source": [
    "# Let's find the longest at-bats in history\n",
    "df: pd.DataFrame = conn.sql(\"\"\"\n",
    "with longatbats as(\n",
    "SELECT\n",
    "    eps.event_key,\n",
    "    ee.game_id,\n",
    "    count(*) cou\n",
    "FROM\n",
    "    event.event_pitch_sequences eps\n",
    "    join event.events ee\n",
    "        on eps.event_key = ee.event_key\n",
    "WHERE\n",
    "    eps.sequence_item NOT LIKE '%Pickoff%'\n",
    "GROUP BY\n",
    "1,2\n",
    "), longatbats_yr as (\n",
    "select\n",
    "    CAST(substr(ee.game_id,4,4) AS INTEGER) yr,\n",
    "    avg(cou) pitchesperab\n",
    "from\n",
    "    longatbats\n",
    "    join event.events ee\n",
    "        on longatbats.event_key = ee.event_key\n",
    "GROUP BY\n",
    "    CAST(substr(ee.game_id,4,4) AS INTEGER)\n",
    "ORDER BY\n",
    "CAST(substr(ee.game_id,4,4) AS INTEGER) desc\n",
    ")\n",
    "SELECT\n",
    "    *\n",
    "FROM longatbats_yr\n",
    "\n",
    "\n",
    "\"\"\"                           ).df()\n",
    "df"
   ]
  },
  {
   "cell_type": "code",
   "execution_count": 8,
   "id": "5940aed7-9eb4-4360-9774-01e9a770a607",
   "metadata": {},
   "outputs": [
    {
     "data": {
      "application/vnd.jupyter.widget-view+json": {
       "model_id": "eebd322c2f1c443fb5855ccda72f2d69",
       "version_major": 2,
       "version_minor": 0
      },
      "text/plain": [
       "FloatProgress(value=0.0, layout=Layout(width='auto'), style=ProgressStyle(bar_color='black'))"
      ]
     },
     "metadata": {},
     "output_type": "display_data"
    },
    {
     "data": {
      "text/html": [
       "<div>\n",
       "<style scoped>\n",
       "    .dataframe tbody tr th:only-of-type {\n",
       "        vertical-align: middle;\n",
       "    }\n",
       "\n",
       "    .dataframe tbody tr th {\n",
       "        vertical-align: top;\n",
       "    }\n",
       "\n",
       "    .dataframe thead th {\n",
       "        text-align: right;\n",
       "    }\n",
       "</style>\n",
       "<table border=\"1\" class=\"dataframe\">\n",
       "  <thead>\n",
       "    <tr style=\"text-align: right;\">\n",
       "      <th></th>\n",
       "      <th>yr</th>\n",
       "      <th>pitchesperab</th>\n",
       "      <th>pitches_smoothed</th>\n",
       "    </tr>\n",
       "  </thead>\n",
       "  <tbody>\n",
       "    <tr>\n",
       "      <th>0</th>\n",
       "      <td>2020</td>\n",
       "      <td>3.840095</td>\n",
       "      <td>3.840095</td>\n",
       "    </tr>\n",
       "    <tr>\n",
       "      <th>1</th>\n",
       "      <td>2019</td>\n",
       "      <td>3.831980</td>\n",
       "      <td>3.836038</td>\n",
       "    </tr>\n",
       "    <tr>\n",
       "      <th>2</th>\n",
       "      <td>2018</td>\n",
       "      <td>3.793219</td>\n",
       "      <td>3.812600</td>\n",
       "    </tr>\n",
       "    <tr>\n",
       "      <th>3</th>\n",
       "      <td>2017</td>\n",
       "      <td>3.793024</td>\n",
       "      <td>3.793122</td>\n",
       "    </tr>\n",
       "    <tr>\n",
       "      <th>4</th>\n",
       "      <td>2016</td>\n",
       "      <td>3.758360</td>\n",
       "      <td>3.775692</td>\n",
       "    </tr>\n",
       "    <tr>\n",
       "      <th>...</th>\n",
       "      <td>...</td>\n",
       "      <td>...</td>\n",
       "      <td>...</td>\n",
       "    </tr>\n",
       "    <tr>\n",
       "      <th>104</th>\n",
       "      <td>1916</td>\n",
       "      <td>2.982630</td>\n",
       "      <td>2.924580</td>\n",
       "    </tr>\n",
       "    <tr>\n",
       "      <th>105</th>\n",
       "      <td>1915</td>\n",
       "      <td>3.389356</td>\n",
       "      <td>3.185993</td>\n",
       "    </tr>\n",
       "    <tr>\n",
       "      <th>106</th>\n",
       "      <td>1914</td>\n",
       "      <td>3.286604</td>\n",
       "      <td>3.337980</td>\n",
       "    </tr>\n",
       "    <tr>\n",
       "      <th>107</th>\n",
       "      <td>1913</td>\n",
       "      <td>2.964029</td>\n",
       "      <td>3.125317</td>\n",
       "    </tr>\n",
       "    <tr>\n",
       "      <th>108</th>\n",
       "      <td>1912</td>\n",
       "      <td>2.965605</td>\n",
       "      <td>2.964817</td>\n",
       "    </tr>\n",
       "  </tbody>\n",
       "</table>\n",
       "<p>109 rows × 3 columns</p>\n",
       "</div>"
      ],
      "text/plain": [
       "       yr  pitchesperab  pitches_smoothed\n",
       "0    2020      3.840095          3.840095\n",
       "1    2019      3.831980          3.836038\n",
       "2    2018      3.793219          3.812600\n",
       "3    2017      3.793024          3.793122\n",
       "4    2016      3.758360          3.775692\n",
       "..    ...           ...               ...\n",
       "104  1916      2.982630          2.924580\n",
       "105  1915      3.389356          3.185993\n",
       "106  1914      3.286604          3.337980\n",
       "107  1913      2.964029          3.125317\n",
       "108  1912      2.965605          2.964817\n",
       "\n",
       "[109 rows x 3 columns]"
      ]
     },
     "execution_count": 8,
     "metadata": {},
     "output_type": "execute_result"
    }
   ],
   "source": [
    "# Let's find the longest at-bats in history using window functions and lag of 1\n",
    "\n",
    "longatbats = \"\"\"\n",
    "SELECT\n",
    "            eps.event_key,\n",
    "            ee.game_id,\n",
    "            count(*) cou\n",
    "        FROM\n",
    "            event.event_pitch_sequences eps\n",
    "            join event.events ee\n",
    "                on eps.event_key = ee.event_key\n",
    "        WHERE\n",
    "            eps.sequence_item NOT LIKE '%Pickoff%'\n",
    "        GROUP BY\n",
    "            1,2 \"\"\"\n",
    "\n",
    "longatbats_yr = \"\"\"\n",
    "select\n",
    "        CAST(substr(ee.game_id,4,4) AS INTEGER) yr,\n",
    "        avg(cou) pitchesperab\n",
    "    from\n",
    "        longatbats\n",
    "    join event.events ee\n",
    "        on longatbats.event_key = ee.event_key\n",
    "GROUP BY\n",
    "    CAST(substr(ee.game_id,4,4) AS INTEGER)\n",
    "ORDER BY\n",
    "CAST(substr(ee.game_id,4,4) AS INTEGER) desc\n",
    "\"\"\"\n",
    "\n",
    "longatbats_ranked = \"\"\"\n",
    "SELECT\n",
    "    yr,\n",
    "    pitchesperab,\n",
    "    ROW_NUMBER() OVER (\n",
    "        order by yr desc) rn_desc,\n",
    "    ROW_NUMBER() OVER (\n",
    "        order by yr asc) rn_asc\n",
    "FROM \n",
    "    longatbats_yr\"\"\"\n",
    "\n",
    "longatbats_query = \"\"\"\n",
    "with longatbats as (\"\"\" + longatbats + \"\"\"),\n",
    "longatbats_yr as (\"\"\" + longatbats_yr + \"\"\"),\n",
    "longatbats_ranked as (\"\"\" + longatbats_ranked + \"\"\")\n",
    "SELECT\n",
    "    yr,\n",
    "    pitchesperab,\n",
    "    COALESCE((pitchesperab + LAG(pitchesperab) OVER(\n",
    "        ORDER BY yr DESC))/2, pitchesperab) pitches_smoothed\n",
    "FROM \n",
    "    longatbats_ranked\n",
    "WHERE\n",
    "    rn_desc > 3 AND rn_asc > 3\n",
    "    \"\"\"\n",
    "# print(longatbats_query)\n",
    "df: pd.DataFrame = conn.sql(longatbats_query).df()\n",
    "df"
   ]
  },
  {
   "cell_type": "code",
   "execution_count": 10,
   "id": "231dc747-4d4c-49d5-9d5e-5fc1eb952cf5",
   "metadata": {},
   "outputs": [
    {
     "data": {
      "text/plain": [
       "<Figure size 640x480 with 0 Axes>"
      ]
     },
     "execution_count": 10,
     "metadata": {},
     "output_type": "execute_result"
    },
    {
     "data": {
      "text/plain": [
       "<Figure size 640x480 with 0 Axes>"
      ]
     },
     "metadata": {},
     "output_type": "display_data"
    }
   ],
   "source": [
    "plt.figure()"
   ]
  },
  {
   "cell_type": "code",
   "execution_count": 9,
   "id": "8a7ab6ae-2ccd-466b-9ae0-bcd5b030845f",
   "metadata": {},
   "outputs": [
    {
     "data": {
      "text/plain": [
       "<Axes: title={'center': 'Pitches per AB - smoothed'}, xlabel='yr', ylabel='pitches_smoothed'>"
      ]
     },
     "execution_count": 9,
     "metadata": {},
     "output_type": "execute_result"
    },
    {
     "data": {
      "image/png": "[encoded data removed]",
      "text/plain": [
       "<Figure size 640x480 with 1 Axes>"
      ]
     },
     "metadata": {},
     "output_type": "display_data"
    },
    {
     "data": {
      "image/png": "[encoded data removed]",
      "text/plain": [
       "<Figure size 640x480 with 1 Axes>"
      ]
     },
     "metadata": {},
     "output_type": "display_data"
    }
   ],
   "source": [
    "df.plot.scatter(x=\"yr\", y=\"pitchesperab\", title=\"Pitches per AB\");\n",
    "df.plot.scatter(x=\"yr\", y=\"pitches_smoothed\", title=\"Pitches per AB - smoothed\")"
   ]
  },
  {
   "cell_type": "code",
   "execution_count": null,
   "id": "5babdef4-0de0-4012-bdca-5072fc12ba60",
   "metadata": {},
   "outputs": [],
   "source": []
  }
 ],
 "metadata": {
  "kernelspec": {
   "display_name": "Python 3 (ipykernel)",
   "language": "python",
   "name": "python3"
  },
  "language_info": {
   "codemirror_mode": {
    "name": "ipython",
    "version": 3
   },
   "file_extension": ".py",
   "mimetype": "text/x-python",
   "name": "python",
   "nbconvert_exporter": "python",
   "pygments_lexer": "ipython3",
   "version": "3.9.6"
  }
 },
 "nbformat": 4,
 "nbformat_minor": 5
}
